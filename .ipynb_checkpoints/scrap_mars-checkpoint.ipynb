{
 "cells": [
  {
   "cell_type": "code",
   "execution_count": 10,
   "id": "81d92de2",
   "metadata": {},
   "outputs": [],
   "source": [
    "# Import\n",
    "import pprint\n",
    "import matplotlib.pyplot as plt\n",
    "import pandas as pd\n",
    "import matplotlib.pyplot as plt\n",
    "import requests\n",
    "from splinter import Browser\n",
    "from pathlib import Path\n",
    "from bs4 import BeautifulSoup as soup\n",
    "import datetime as dt\n",
    "from selenium import webdriver\n",
    "from webdriver_manager.chrome import ChromeDriverManager\n",
    "from splinter import Browser\n",
    "from selenium.webdriver.chrome.service import Service as ChromiumService\n",
    "from webdriver_manager.chrome import ChromeDriverManager\n",
    "from webdriver_manager.core.utils import ChromeType\n",
    "from flask import Flask, render_template, redirect\n",
    "from flask_pymongo import PyMongo\n",
    "from selenium import webdriver\n",
    "from selenium.webdriver.common.keys import Keys\n",
    "from selenium.webdriver.common.by import By\n",
    "import time\n",
    "import datetime as dt\n",
    "import pandas as pd\n",
    "import pytest\n",
    "import time\n"
   ]
  },
  {
   "cell_type": "code",
   "execution_count": 11,
   "id": "33758316",
   "metadata": {},
   "outputs": [
    {
     "name": "stderr",
     "output_type": "stream",
     "text": [
      "[WDM] - Downloading: 100%|█████████████████| 8.41M/8.41M [00:01<00:00, 5.41MB/s]\n"
     ]
    }
   ],
   "source": [
    "executable_path = {'executable_path': ChromeDriverManager().install()}\n",
    "browser = Browser('chrome', **executable_path, headless=False)\n"
   ]
  },
  {
   "cell_type": "code",
   "execution_count": 12,
   "id": "b4af3710",
   "metadata": {},
   "outputs": [],
   "source": [
    "\n",
    "def scrape_all():\n",
    "    #print(\"Scrape all was reached\")\n",
    "    path = {'executable_path': ChromeDriverManager().install()}\n",
    "    browser = Browser('chrome',**path, headless=False)\n",
    "\n",
    "    # Add delay\n",
    "    browser.is_element_present_by_css('div.list_text', wait_time=1)\n",
    "    \n",
    "    # Get info from news page\n",
    "    newsTitle, newsParagraph = scrapeNews(browser)\n",
    "\n",
    "    # Dictionary of scrape \n",
    "    marsData = {\n",
    "        \"newsTitle\": newsTitle,\n",
    "        \"newsParagraph\": newsParagraph,\n",
    "        \"featuredImage\": scrapeFeatureImg(browser),\n",
    "        \"facts\": scrapeFactsPage(browser),\n",
    "        \"hemispheres\": scrapeHemispheres(browser),\n",
    "        \"lastUpdated\": dt.datetime.now()\n",
    "    }\n",
    "\n",
    "    # Stops webdriver\n",
    "    browser.quit()\n",
    "\n",
    "    return marsData\n"
   ]
  },
  {
   "cell_type": "code",
   "execution_count": 13,
   "id": "2e94c552",
   "metadata": {},
   "outputs": [],
   "source": [
    "\n",
    "# Scrapes news pages\n",
    "def scrapeNews(browser):\n",
    "    # Visit news site\n",
    "    # With the wait_time  \n",
    "    \n",
    "    url = 'https://redplanetscience.com/'\n",
    "    browser.visit(url)\n",
    "\n",
    "\n",
    "    # Add delay\n",
    "    browser.is_element_present_by_css('div.list_text', wait_time=1)\n",
    "    \n",
    "    # Convert browser html to soup object\n",
    "    html = browser.html\n",
    "    newsSoup = soup(html, 'html.parser')\n",
    "    \n",
    "\n",
    "    # Display current title content\n",
    "    slideElem = newsSoup.select_one('div.list_text')\n",
    "    newsTitle = slideElem.find('div', class_='content_title').get_text()\n",
    "\n",
    "    # Uses parent element to find paragraph text\n",
    "    newsP = slideElem.find('div', class_='article_teaser_body').get_text()\n",
    "\n",
    "    # Returns title and paragraph\n",
    "    return newsTitle, newsP\n",
    "\n"
   ]
  },
  {
   "cell_type": "code",
   "execution_count": 14,
   "id": "2621e02c",
   "metadata": {},
   "outputs": [],
   "source": [
    "# Scrapes for Feature Image\n",
    "def scrapeFeatureImg(browser):\n",
    "    # Visit URL\n",
    "    url = 'https://spaceimages-mars.com'\n",
    "    browser.visit(url)\n",
    "    \n",
    "    # Add delay\n",
    "    browser.is_element_present_by_css('div.list_text', wait_time=1)\n",
    "\n",
    "    # Find and click the full image button\n",
    "    fullImageLink = browser.find_by_tag('button')[1]\n",
    "    fullImageLink.click()\n",
    "\n",
    "    # Parse html with soup\n",
    "    html = browser.html\n",
    "    imgSoup = soup(html, 'html.parser')\n",
    "\n",
    "    # Find relative image url\n",
    "    imgUrlRel = imgSoup.find('img', class_='fancybox-image').get('src')\n",
    "\n",
    "    # Store image url as absolute url to use later\n",
    "    imgUrl = f'https://spaceimages-mars.com/{imgUrlRel}'\n",
    "\n",
    "    # Return image URL\n",
    "    return imgUrl\n"
   ]
  },
  {
   "cell_type": "code",
   "execution_count": null,
   "id": "3befa145",
   "metadata": {},
   "outputs": [],
   "source": []
  },
  {
   "cell_type": "code",
   "execution_count": 15,
   "id": "43d622b6",
   "metadata": {},
   "outputs": [],
   "source": [
    "\n",
    "# Scrape Facts Page\n",
    "def scrapeFactsPage(browser):\n",
    "    # Visit URL\n",
    "    url = 'https://galaxyfacts-mars.com/'\n",
    "    browser.visit(url)\n",
    "    \n",
    "    # Add delay\n",
    "    browser.is_element_present_by_css('div.list_text', wait_time=1)\n",
    "\n",
    "    # Parse through HTML with soup\n",
    "    html = browser.html\n",
    "    factsSoup = soup(html, 'html.parser')\n",
    "\n",
    "    # Find facts location\n",
    "    factsLocation = factsSoup.find('div', class_=\"diagram mt-4\")\n",
    "    factsTable = factsLocation.find('table') # Grabs table html code\n",
    "\n",
    "    # Empty string\n",
    "    facts = \"\"\n",
    "\n",
    "    # Adds text to empty string\n",
    "    facts += str(factsTable)\n",
    "\n",
    "    return facts\n",
    "\n"
   ]
  },
  {
   "cell_type": "code",
   "execution_count": 16,
   "id": "0af45a6d",
   "metadata": {},
   "outputs": [
    {
     "name": "stdout",
     "output_type": "stream",
     "text": [
      "{'newsTitle': \"NASA's Mars 2020 Will Hunt for Microscopic Fossils\", 'newsParagraph': \"A new paper identifies a ring of minerals at the rover's landing site that are ideal for fossilizing microbial life.\", 'featuredImage': 'https://spaceimages-mars.com/image/featured/mars1.jpg', 'facts': '<table class=\"table\">\\n<tbody>\\n<tr>\\n<th scope=\"row\"><b> Mars - Earth Comparison</b></th>\\n<td><span class=\"orange\"><b> Mars</b></span></td>\\n<td><span class=\"purple\"> <b>Earth </b></span> </td>\\n</tr>\\n<tr>\\n<th scope=\"row\">Diameter:</th>\\n<td><span class=\"orange\">6,779 km</span></td>\\n<td><span class=\"purple\">12,742 km</span> </td>\\n</tr>\\n<tr>\\n<th scope=\"row\">Mass:</th>\\n<td><span class=\"orange\">6.39 × 10^23 kg </span></td>\\n<td><span class=\"purple\">5.97 × 10^24 kg</span> </td>\\n</tr>\\n<tr>\\n<th scope=\"row\">Moons:</th>\\n<td><span class=\"orange\">2</span></td>\\n<td><span class=\"purple\">1</span> </td>\\n</tr>\\n<tr>\\n<th scope=\"row\">Distance from Sun:</th>\\n<td><span class=\"orange\">227,943,824 km</span></td>\\n<td><span class=\"purple\">149,598,262 km</span> </td>\\n</tr>\\n<tr>\\n<th scope=\"row\">Length of Year:</th>\\n<td><span class=\"orange\">687 Earth days</span></td>\\n<td><span class=\"purple\">365.24 days</span> </td>\\n</tr>\\n<tr>\\n<th scope=\"row\">Temperature:</th>\\n<td><span class=\"orange\">-87 to -5 °C</span></td>\\n<td><span class=\"purple\">\\t-88 to 58°C</span> </td>\\n</tr>\\n</tbody>\\n</table>', 'hemispheres': [{'img_url': 'https://marshemispheres.com/images/full.jpg', 'title': 'Cerberus Hemisphere Enhanced'}, {'img_url': 'https://marshemispheres.com/images/schiaparelli_enhanced-full.jpg', 'title': 'Schiaparelli Hemisphere Enhanced'}, {'img_url': 'https://marshemispheres.com/images/syrtis_major_enhanced-full.jpg', 'title': 'Syrtis Major Hemisphere Enhanced'}, {'img_url': 'https://marshemispheres.com/images/valles_marineris_enhanced-full.jpg', 'title': 'Valles Marineris Hemisphere Enhanced'}], 'lastUpdated': datetime.datetime(2022, 11, 17, 16, 26, 16, 63221)}\n"
     ]
    }
   ],
   "source": [
    "# Scrap Hemispheres Page\n",
    "def scrapeHemispheres(browser):\n",
    "    url = 'https://marshemispheres.com/'\n",
    "    browser.visit(url)\n",
    "    \n",
    "    # Add delay\n",
    "    browser.is_element_present_by_css('div.list_text', wait_time=1)\n",
    "\n",
    "    # List to hold images and titles\n",
    "    hemisphereImgUrl = []\n",
    "\n",
    "    for i in range(4):\n",
    "        hemisphereInfo = {}\n",
    "    \n",
    "        # Find element on each loop\n",
    "        browser.find_by_css('a.product-item img')[i].click()\n",
    "        \n",
    "        # Find sample image anchor tag and extract href\n",
    "        sample = browser.links.find_by_text('Sample').first\n",
    "        hemisphereInfo['img_url'] = sample['href']\n",
    "        \n",
    "        # Get title\n",
    "        hemisphereInfo['title'] = browser.find_by_css('h2.title').text\n",
    "        \n",
    "        # Append object to list\n",
    "        hemisphereImgUrl.append(hemisphereInfo)\n",
    "        \n",
    "        # Navigate \n",
    "        browser.back()\n",
    "    \n",
    "    return hemisphereImgUrl\n",
    "\n",
    "\n",
    "\n",
    "# Sets up flask app\n",
    "if __name__ == \"__main__\":\n",
    "    print(scrape_all())"
   ]
  },
  {
   "cell_type": "code",
   "execution_count": 17,
   "id": "50532de4",
   "metadata": {},
   "outputs": [
    {
     "name": "stdout",
     "output_type": "stream",
     "text": [
      "<function Tag.prettify at 0x7fd7bdb24ca0>\n"
     ]
    }
   ],
   "source": [
    "print(soup.prettify)"
   ]
  },
  {
   "cell_type": "code",
   "execution_count": null,
   "id": "f25d469b",
   "metadata": {},
   "outputs": [],
   "source": [
    "print(news_soup.prettify())"
   ]
  },
  {
   "cell_type": "code",
   "execution_count": null,
   "id": "7c8576f4",
   "metadata": {},
   "outputs": [],
   "source": []
  }
 ],
 "metadata": {
  "kernelspec": {
   "display_name": "Python 3 (ipykernel)",
   "language": "python",
   "name": "python3"
  },
  "language_info": {
   "codemirror_mode": {
    "name": "ipython",
    "version": 3
   },
   "file_extension": ".py",
   "mimetype": "text/x-python",
   "name": "python",
   "nbconvert_exporter": "python",
   "pygments_lexer": "ipython3",
   "version": "3.9.12"
  }
 },
 "nbformat": 4,
 "nbformat_minor": 5
}
